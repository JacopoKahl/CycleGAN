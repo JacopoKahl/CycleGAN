{
  "nbformat": 4,
  "nbformat_minor": 0,
  "metadata": {
    "colab": {
      "name": "CycleGAN.ipynb",
      "provenance": [],
      "collapsed_sections": [],
      "toc_visible": true,
      "authorship_tag": "ABX9TyMzAyJI7LdP7aYHDZk32f0x",
      "include_colab_link": true
    },
    "kernelspec": {
      "name": "python3",
      "display_name": "Python 3"
    },
    "accelerator": "GPU"
  },
  "cells": [
    {
      "cell_type": "markdown",
      "metadata": {
        "id": "view-in-github",
        "colab_type": "text"
      },
      "source": [
        "<a href=\"https://colab.research.google.com/github/JacopoKahl/CycleGAN/blob/main/CycleGAN.ipynb\" target=\"_parent\"><img src=\"https://colab.research.google.com/assets/colab-badge.svg\" alt=\"Open In Colab\"/></a>"
      ]
    },
    {
      "cell_type": "markdown",
      "metadata": {
        "id": "UzV-7cEBm1IS"
      },
      "source": [
        "#CycleGAN\n",
        "\n",
        "Composed by 4 models: 2 generators and 2 discriminators\n",
        "\n",
        "**Objective**: Train generators (together with discriminators) to be able to transgorm input images.\n",
        "\n",
        "**Dataset**: apple2orange image dataset\n",
        "\n",
        "**Notation**:\n",
        "\n",
        "1.   **g_AB**: Generator for A->B image conversion\n",
        "2.   **G_BA**: Generator for B->A image conversion\n",
        "3.   **d_A**: Discriminator for A type images\n",
        "4.   **d_B**: Discriminator for B type images\n",
        "\n"
      ]
    },
    {
      "cell_type": "code",
      "metadata": {
        "id": "GDFfNXKupYpL"
      },
      "source": [
        "%tensorflow_version 1.x"
      ],
      "execution_count": 17,
      "outputs": []
    },
    {
      "cell_type": "markdown",
      "metadata": {
        "id": "3Ux-6Wzsm6zx"
      },
      "source": [
        "##Imports\n",
        "\n",
        "\n",
        "*   Need to install keras-contrib from GitHub!\n",
        "\n"
      ]
    },
    {
      "cell_type": "code",
      "metadata": {
        "colab": {
          "base_uri": "https://localhost:8080/"
        },
        "id": "6n2TomPnmx7p",
        "outputId": "d07e5aee-698a-4e7f-e32b-568f28d1fdbe"
      },
      "source": [
        "!pip install git+https://www.github.com/keras-team/keras-contrib.git"
      ],
      "execution_count": 18,
      "outputs": [
        {
          "output_type": "stream",
          "text": [
            "Collecting git+https://www.github.com/keras-team/keras-contrib.git\n",
            "  Cloning https://www.github.com/keras-team/keras-contrib.git to /tmp/pip-req-build-ym61iugl\n",
            "  Running command git clone -q https://www.github.com/keras-team/keras-contrib.git /tmp/pip-req-build-ym61iugl\n",
            "Requirement already satisfied (use --upgrade to upgrade): keras-contrib==2.0.8 from git+https://www.github.com/keras-team/keras-contrib.git in /usr/local/lib/python3.6/dist-packages\n",
            "Requirement already satisfied: keras in /tensorflow-1.15.2/python3.6 (from keras-contrib==2.0.8) (2.3.1)\n",
            "Requirement already satisfied: numpy>=1.9.1 in /usr/local/lib/python3.6/dist-packages (from keras->keras-contrib==2.0.8) (1.19.5)\n",
            "Requirement already satisfied: pyyaml in /usr/local/lib/python3.6/dist-packages (from keras->keras-contrib==2.0.8) (3.13)\n",
            "Requirement already satisfied: scipy>=0.14 in /usr/local/lib/python3.6/dist-packages (from keras->keras-contrib==2.0.8) (1.4.1)\n",
            "Requirement already satisfied: six>=1.9.0 in /usr/local/lib/python3.6/dist-packages (from keras->keras-contrib==2.0.8) (1.15.0)\n",
            "Requirement already satisfied: keras-preprocessing>=1.0.5 in /usr/local/lib/python3.6/dist-packages (from keras->keras-contrib==2.0.8) (1.1.2)\n",
            "Requirement already satisfied: h5py in /usr/local/lib/python3.6/dist-packages (from keras->keras-contrib==2.0.8) (2.10.0)\n",
            "Requirement already satisfied: keras-applications>=1.0.6 in /tensorflow-1.15.2/python3.6 (from keras->keras-contrib==2.0.8) (1.0.8)\n",
            "Building wheels for collected packages: keras-contrib\n",
            "  Building wheel for keras-contrib (setup.py) ... \u001b[?25l\u001b[?25hdone\n",
            "  Created wheel for keras-contrib: filename=keras_contrib-2.0.8-cp36-none-any.whl size=101066 sha256=16ebfb9c8a926b0ff5a4cc50430524b6c552e19a5bb1847d363534fbbaff5de4\n",
            "  Stored in directory: /tmp/pip-ephem-wheel-cache-q3hk4ecc/wheels/11/27/c8/4ed56de7b55f4f61244e2dc6ef3cdbaff2692527a2ce6502ba\n",
            "Successfully built keras-contrib\n"
          ],
          "name": "stdout"
        }
      ]
    },
    {
      "cell_type": "code",
      "metadata": {
        "id": "qsFO1-n3p6qa"
      },
      "source": [
        "from keras.models import Model #Keras Functional API\n",
        "\n",
        "from keras.layers import Input, Conv2D, UpSampling2D, Activation, LeakyReLU, Concatenate, BatchNormalization, Dropout\n",
        "\n",
        "from keras_contrib.layers.normalization.instancenormalization import InstanceNormalization #InstanceNormalization layer is part of keras.contrib installed above\n",
        "\n",
        "#from keras.initializers import RandomNormal\n",
        "\n",
        "from keras.optimizers import Adam #import adam to specify settings\n",
        "\n",
        "import numpy as np #import numpy numerical library\n",
        "\n",
        "from glob import glob #glob is a function used for listing file path\n",
        "\n",
        "from PIL import Image #Python Imaging library used here for simply opening image files and transforming input into bitmap format\n",
        "#import cv2 #alternatively one can import the OpenCV library (famous for image processing)\n",
        "\n",
        "#Visualization\n",
        "import matplotlib.pyplot as plt #plot charts\n",
        "\n",
        "from keras.utils import plot_model #visualization chart of the models\n",
        "\n",
        "from tqdm import tqdm #progress bar"
      ],
      "execution_count": 20,
      "outputs": []
    },
    {
      "cell_type": "markdown",
      "metadata": {
        "id": "lxYK4SEEx6FY"
      },
      "source": [
        "##Dataset \n",
        "\n",
        "https://people.eecs.berkeley.edu/~taesung_park/CycleGAN/datasets/"
      ]
    },
    {
      "cell_type": "code",
      "metadata": {
        "colab": {
          "base_uri": "https://localhost:8080/"
        },
        "id": "KdJCA9zPx9G1",
        "outputId": "cfa75e0a-3a8a-4fd3-a0a7-b1fef638eeae"
      },
      "source": [
        "from google.colab import drive\n",
        "drive.mount('/content/drive')"
      ],
      "execution_count": 21,
      "outputs": [
        {
          "output_type": "stream",
          "text": [
            "Drive already mounted at /content/drive; to attempt to forcibly remount, call drive.mount(\"/content/drive\", force_remount=True).\n"
          ],
          "name": "stdout"
        }
      ]
    },
    {
      "cell_type": "markdown",
      "metadata": {
        "id": "0Sepqs9dyg64"
      },
      "source": [
        "##Dataset"
      ]
    },
    {
      "cell_type": "markdown",
      "metadata": {
        "id": "iehZBb61yjZo"
      },
      "source": [
        "###Unzip and prepare working directory"
      ]
    },
    {
      "cell_type": "code",
      "metadata": {
        "colab": {
          "base_uri": "https://localhost:8080/",
          "height": 35
        },
        "id": "couvgndVx8TZ",
        "outputId": "bad27e93-37cc-4662-a9a5-919beaf499bc"
      },
      "source": [
        "#print working directory\n",
        "%pwd"
      ],
      "execution_count": 22,
      "outputs": [
        {
          "output_type": "execute_result",
          "data": {
            "application/vnd.google.colaboratory.intrinsic+json": {
              "type": "string"
            },
            "text/plain": [
              "'/content/drive/My Drive/AI_for_Multimedia/Lezione12'"
            ]
          },
          "metadata": {
            "tags": []
          },
          "execution_count": 22
        }
      ]
    },
    {
      "cell_type": "code",
      "metadata": {
        "colab": {
          "base_uri": "https://localhost:8080/"
        },
        "id": "Erzs5CeWy3SQ",
        "outputId": "1b802ae3-4ebd-448b-a17b-6772309d1d0d"
      },
      "source": [
        "#print list files\n",
        "%ls"
      ],
      "execution_count": 23,
      "outputs": [
        {
          "output_type": "stream",
          "text": [
            "apple2orange.zip\n"
          ],
          "name": "stdout"
        }
      ]
    },
    {
      "cell_type": "code",
      "metadata": {
        "colab": {
          "base_uri": "https://localhost:8080/"
        },
        "id": "t7ZcqZlgy4Km",
        "outputId": "a76df394-4a43-4708-9d5c-de239429d3f9"
      },
      "source": [
        "%cd '/content/drive/MyDrive/AI_for_Multimedia/Lezione12/'"
      ],
      "execution_count": 24,
      "outputs": [
        {
          "output_type": "stream",
          "text": [
            "/content/drive/MyDrive/AI_for_Multimedia/Lezione12\n"
          ],
          "name": "stdout"
        }
      ]
    },
    {
      "cell_type": "code",
      "metadata": {
        "colab": {
          "base_uri": "https://localhost:8080/"
        },
        "id": "XYQOefjRzeLJ",
        "outputId": "56b2d835-6191-4e38-cd19-c3cdc3b64abf"
      },
      "source": [
        "#print list files\n",
        "%ls"
      ],
      "execution_count": null,
      "outputs": [
        {
          "output_type": "stream",
          "text": [
            "apple2orange.zip\n"
          ],
          "name": "stdout"
        }
      ]
    },
    {
      "cell_type": "code",
      "metadata": {
        "id": "y93eQn33ziFl"
      },
      "source": [
        "!unzip -q apple2orange.zip -d /content/"
      ],
      "execution_count": null,
      "outputs": []
    },
    {
      "cell_type": "code",
      "metadata": {
        "id": "HXWTbQp7zYwh"
      },
      "source": [
        ""
      ],
      "execution_count": null,
      "outputs": []
    }
  ]
}